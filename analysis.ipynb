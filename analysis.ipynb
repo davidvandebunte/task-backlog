{
 "cells": [
  {
   "cell_type": "code",
   "execution_count": null,
   "metadata": {},
   "outputs": [],
   "source": [
    "import pandas as pd\n",
    "\n",
    "# Convert raw data to a pandas data frame.\n",
    "full = pd.DataFrame({pbi.T: pd.Series(dict({'V': pbi.V, 'E': pbi.E, 'W': pbi.W(), 'S': pbi.S()})) for pbi in backlog}).transpose()\n",
    "\n",
    "# Show a table with what you believe the weightiest item is (even if it's too large to do).\n",
    "display(full.sort_values(by='W', ascending=False))\n",
    "\n",
    "# Plot (V, E) with a label on every point with the summary of the Task. You should be able to quickly see how many\n",
    "# tasks or stories are small enough to start on (less than 4-8 hours). Hopefully you always have at least 3-4 stories\n",
    "# that are small enough you can pick from. Over time you should be able to see what kind of V/E ratio you typically have\n",
    "# on tasks you actually do.\n",
    "nominal = pd.DataFrame({'V': full['V'].map(lambda v: v.nominal_value),\n",
    "                        'E': full['E'].map(lambda e: e.nominal_value)})\n",
    "   \n",
    "import matplotlib.pyplot as plt\n",
    "plt.rcParams['figure.figsize'] = [8,8]\n",
    "\n",
    "# https://stackoverflow.com/a/26000515/622049\n",
    "fig, ax = plt.subplots()\n",
    "nominal.plot('E', 'V', kind='scatter', ax=ax)\n",
    "\n",
    "for k, v in nominal.iterrows():\n",
    "    ax.annotate(s=k, xy=(v.E, v.V),\n",
    "                xytext=(10,-5), textcoords='offset points',\n",
    "                family='sans-serif', fontsize=16, color='darkslategrey')\n",
    "\n",
    "ax.grid()"
   ]
  }
 ],
 "metadata": {
  "kernelspec": {
   "display_name": "Python 3",
   "language": "python",
   "name": "python3"
  },
  "language_info": {
   "codemirror_mode": {
    "name": "ipython",
    "version": 3
   },
   "file_extension": ".py",
   "mimetype": "text/x-python",
   "name": "python",
   "nbconvert_exporter": "python",
   "pygments_lexer": "ipython3",
   "version": "3.7.3"
  }
 },
 "nbformat": 4,
 "nbformat_minor": 4
}
