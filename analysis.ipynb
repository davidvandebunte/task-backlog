{
 "cells": [
  {
   "cell_type": "code",
   "execution_count": 1,
   "metadata": {},
   "outputs": [
    {
     "ename": "NameError",
     "evalue": "name 'backlog' is not defined",
     "output_type": "error",
     "traceback": [
      "\u001b[0;31m---------------------------------------------------------------------------\u001b[0m",
      "\u001b[0;31mNameError\u001b[0m                                 Traceback (most recent call last)",
      "\u001b[0;32m<ipython-input-1-5f2fa39fc1fb>\u001b[0m in \u001b[0;36m<module>\u001b[0;34m\u001b[0m\n\u001b[1;32m     10\u001b[0m       \u001b[0;34m'age'\u001b[0m\u001b[0;34m:\u001b[0m \u001b[0;34m(\u001b[0m\u001b[0mdate\u001b[0m\u001b[0;34m.\u001b[0m\u001b[0mtoday\u001b[0m\u001b[0;34m(\u001b[0m\u001b[0;34m)\u001b[0m \u001b[0;34m-\u001b[0m \u001b[0mpbi\u001b[0m\u001b[0;34m.\u001b[0m\u001b[0mcreation_date\u001b[0m\u001b[0;34m)\u001b[0m\u001b[0;34m.\u001b[0m\u001b[0mdays\u001b[0m\u001b[0;34m,\u001b[0m\u001b[0;34m\u001b[0m\u001b[0;34m\u001b[0m\u001b[0m\n\u001b[1;32m     11\u001b[0m       'Timebox': task.Timebox()}\n\u001b[0;32m---> 12\u001b[0;31m      \u001b[0;32mfor\u001b[0m \u001b[0mpbi\u001b[0m \u001b[0;32min\u001b[0m \u001b[0mbacklog\u001b[0m\u001b[0;34m\u001b[0m\u001b[0;34m\u001b[0m\u001b[0m\n\u001b[0m\u001b[1;32m     13\u001b[0m      for task in pbi.tasks])\n\u001b[1;32m     14\u001b[0m \u001b[0;34m\u001b[0m\u001b[0m\n",
      "\u001b[0;31mNameError\u001b[0m: name 'backlog' is not defined"
     ]
    }
   ],
   "source": [
    "import pandas as pd\n",
    "from IPython.core.display import display, Markdown\n",
    "\n",
    "# Convert raw data to a pandas data frame.\n",
    "full = pd.DataFrame(\n",
    "    [{'summary': task.summary,\n",
    "      'estimate': task.E,\n",
    "      'weight': (pbi.V * task.E / pbi.E() + task.V_learn + task.V_lr * task.E) / task.E,\n",
    "      'url': task.url,\n",
    "      'age': (date.today() - pbi.creation_date).days,\n",
    "      'Timebox': task.Timebox()}\n",
    "     for pbi in backlog\n",
    "     for task in pbi.tasks])\n",
    "\n",
    "# Plot (V, E) with a label on every point with the summary of the Task. You should be able to quickly see how many\n",
    "# tasks or stories are small enough to start on (less than 4-8 hours). Hopefully you always have at least 3-4 stories\n",
    "# that are small enough you can pick from. Over time you should be able to see what kind of V/E ratio you typically have\n",
    "# on tasks you actually do.\n",
    "nominal = pd.DataFrame({'weight': full['weight'].map(lambda w: w.nominal_value),\n",
    "                        'estimate': full['estimate'].map(lambda e: e.nominal_value)})\n",
    "   \n",
    "import matplotlib.pyplot as plt\n",
    "plt.rcParams['figure.figsize'] = [12,6]\n",
    "\n",
    "# https://stackoverflow.com/a/26000515/622049\n",
    "# https://matplotlib.org/3.1.1/api/_as_gen/matplotlib.pyplot.errorbar.html\n",
    "# https://matplotlib.org/gallery/lines_bars_and_markers/errorbar_limits_simple.html\n",
    "# https://stackoverflow.com/a/43990689/622049\n",
    "fig, ax = plt.subplots()\n",
    "ax.errorbar(\n",
    "    nominal.estimate,\n",
    "    nominal.weight,\n",
    "    xerr=full['estimate'].map(lambda e: e.std_dev),\n",
    "    yerr=full['weight'].map(lambda w: w.std_dev),\n",
    "    fmt='o')\n",
    "ax.set_xlim(left=0.1)\n",
    "ax.set_xscale(\"log\")\n",
    "ax.set_ylim(bottom=0.)\n",
    "ax.axvline(x=4, linestyle=':', color='red')\n",
    "ax.axvline(x=1, linestyle='--', color='orange')\n",
    "ax.axhline(y=1, linestyle='-', color='red')\n",
    "\n",
    "for k, v in nominal.iterrows():\n",
    "    ax.annotate(s=k, xy=(v.estimate, v.weight),\n",
    "                xytext=(5,5), textcoords='offset points',\n",
    "                family='sans-serif', fontsize=16, color='darkslategrey')\n",
    "\n",
    "ax.grid()\n",
    "plt.show()\n",
    "\n",
    "# https://stackoverflow.com/a/48481247/622049\n",
    "def make_clickable(val):\n",
    "    # target _blank to open new window\n",
    "    return '<a target=\"_blank\" href=\"{}\">{}</a>'.format(val, val)\n",
    "\n",
    "# Show a table with what you believe the weightiest item is (even if it's too large to do).\n",
    "full.sort_values(by='weight', ascending=False, inplace=True)\n",
    "full['calendar_distance_hours'] = full.estimate.cumsum()\n",
    "full['calendar_distance_hours'] = full.calendar_distance_hours.apply(lambda x: x.nominal_value)\n",
    "styler = full.style\n",
    "styler.format({'url': make_clickable})\n",
    "\n",
    "# Schedule your day down to the hour; don't even consider tasks larger than 4 hours.\n",
    "styler.bar(subset=\"Timebox\", color='#d65f5f', vmin=1.0, vmax=4.0)\n",
    "\n",
    "# Prefer older tasks (avoid focal work)\n",
    "styler.bar(subset=\"age\", color='green', vmin=0.0, vmax=42.0)\n",
    "\n",
    "# Avoid tasks far in the future\n",
    "styler.bar(subset=\"calendar_distance_hours\", color='yellow', vmin=0.0, vmax=40.0)\n",
    "\n",
    "def highlight_empty(x):\n",
    "    return ['background-color: #d65f5f' if v == \"\" else ''\n",
    "            for v in x]\n",
    "styler.apply(func=highlight_empty, subset=\"url\")\n",
    "\n",
    "display(styler)"
   ]
  },
  {
   "cell_type": "code",
   "execution_count": null,
   "metadata": {},
   "outputs": [],
   "source": []
  }
 ],
 "metadata": {
  "kernelspec": {
   "display_name": "Python 3",
   "language": "python",
   "name": "python3"
  },
  "language_info": {
   "codemirror_mode": {
    "name": "ipython",
    "version": 3
   },
   "file_extension": ".py",
   "mimetype": "text/x-python",
   "name": "python",
   "nbconvert_exporter": "python",
   "pygments_lexer": "ipython3",
   "version": "3.7.3"
  }
 },
 "nbformat": 4,
 "nbformat_minor": 4
}
