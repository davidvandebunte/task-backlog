{
 "cells": [
  {
   "cell_type": "code",
   "execution_count": 3,
   "metadata": {},
   "outputs": [
    {
     "ename": "NameError",
     "evalue": "name 'backlog' is not defined",
     "output_type": "error",
     "traceback": [
      "\u001b[0;31m---------------------------------------------------------------------------\u001b[0m",
      "\u001b[0;31mNameError\u001b[0m                                 Traceback (most recent call last)",
      "\u001b[0;32m<ipython-input-3-fdd8244dbb18>\u001b[0m in \u001b[0;36m<module>\u001b[0;34m\u001b[0m\n\u001b[1;32m      2\u001b[0m \u001b[0;34m\u001b[0m\u001b[0m\n\u001b[1;32m      3\u001b[0m \u001b[0;31m# Convert raw data to a pandas data frame.\u001b[0m\u001b[0;34m\u001b[0m\u001b[0;34m\u001b[0m\u001b[0;34m\u001b[0m\u001b[0m\n\u001b[0;32m----> 4\u001b[0;31m \u001b[0mfull\u001b[0m \u001b[0;34m=\u001b[0m \u001b[0mpd\u001b[0m\u001b[0;34m.\u001b[0m\u001b[0mDataFrame\u001b[0m\u001b[0;34m(\u001b[0m\u001b[0;34m{\u001b[0m\u001b[0mpbi\u001b[0m\u001b[0;34m.\u001b[0m\u001b[0mT\u001b[0m\u001b[0;34m:\u001b[0m \u001b[0mpd\u001b[0m\u001b[0;34m.\u001b[0m\u001b[0mSeries\u001b[0m\u001b[0;34m(\u001b[0m\u001b[0mdict\u001b[0m\u001b[0;34m(\u001b[0m\u001b[0;34m{\u001b[0m\u001b[0;34m'V'\u001b[0m\u001b[0;34m:\u001b[0m \u001b[0mpbi\u001b[0m\u001b[0;34m.\u001b[0m\u001b[0mV\u001b[0m\u001b[0;34m,\u001b[0m \u001b[0;34m'E'\u001b[0m\u001b[0;34m:\u001b[0m \u001b[0mpbi\u001b[0m\u001b[0;34m.\u001b[0m\u001b[0mE\u001b[0m\u001b[0;34m,\u001b[0m \u001b[0;34m'W'\u001b[0m\u001b[0;34m:\u001b[0m \u001b[0mpbi\u001b[0m\u001b[0;34m.\u001b[0m\u001b[0mW\u001b[0m\u001b[0;34m(\u001b[0m\u001b[0;34m)\u001b[0m\u001b[0;34m,\u001b[0m \u001b[0;34m'S'\u001b[0m\u001b[0;34m:\u001b[0m \u001b[0mpbi\u001b[0m\u001b[0;34m.\u001b[0m\u001b[0mS\u001b[0m\u001b[0;34m(\u001b[0m\u001b[0;34m)\u001b[0m\u001b[0;34m}\u001b[0m\u001b[0;34m)\u001b[0m\u001b[0;34m)\u001b[0m \u001b[0;32mfor\u001b[0m \u001b[0mpbi\u001b[0m \u001b[0;32min\u001b[0m \u001b[0mbacklog\u001b[0m\u001b[0;34m}\u001b[0m\u001b[0;34m)\u001b[0m\u001b[0;34m.\u001b[0m\u001b[0mtranspose\u001b[0m\u001b[0;34m(\u001b[0m\u001b[0;34m)\u001b[0m\u001b[0;34m\u001b[0m\u001b[0;34m\u001b[0m\u001b[0m\n\u001b[0m\u001b[1;32m      5\u001b[0m \u001b[0;34m\u001b[0m\u001b[0m\n\u001b[1;32m      6\u001b[0m \u001b[0;31m# Show a table with what you believe the weightiest item is (even if it's too large to do).\u001b[0m\u001b[0;34m\u001b[0m\u001b[0;34m\u001b[0m\u001b[0;34m\u001b[0m\u001b[0m\n",
      "\u001b[0;31mNameError\u001b[0m: name 'backlog' is not defined"
     ]
    }
   ],
   "source": [
    "import pandas as pd\n",
    "\n",
    "# Convert raw data to a pandas data frame.\n",
    "full = pd.DataFrame({pbi.T: pd.Series(dict({'V': pbi.V, 'E': pbi.E(), 'W': pbi.W(), 'S': pbi.S()})) for pbi in backlog}).transpose()\n",
    "\n",
    "# Show a table with what you believe the weightiest item is (even if it's too large to do).\n",
    "display(full.sort_values(by='W', ascending=False))\n",
    "\n",
    "if any(pbi.E() > 1 for pbi in backlog):\n",
    "    print(\"Some of the highest priority tasks are larger than 1 hour. Before\")\n",
    "    print(\"starting work, report your plan either:\")\n",
    "    print(\"- On a shared backlog\")\n",
    "    print(\"- At a daily stand-up\")\n",
    "    print(\"\")\n",
    "\n",
    "from IPython.core.display import display, HTML\n",
    "\n",
    "if any(pbi.E() > 7.5 for pbi in backlog):\n",
    "    print(\"Some of the highest priority stories are larger than 8 hours.\")\n",
    "    display(HTML(\"\"\"<a href=\"https://docs.google.com/document/d/1bmRN4n0kbMN2EOhMKk62VMjpkAYcolWbKj0vPLyJKa8/edit#\">Process: Backlog grooming</a>\"\"\"))\n",
    "\n",
    "# Plot (V, E) with a label on every point with the summary of the Task. You should be able to quickly see how many\n",
    "# tasks or stories are small enough to start on (less than 4-8 hours). Hopefully you always have at least 3-4 stories\n",
    "# that are small enough you can pick from. Over time you should be able to see what kind of V/E ratio you typically have\n",
    "# on tasks you actually do.\n",
    "nominal = pd.DataFrame({'V': full['V'].map(lambda v: v.nominal_value),\n",
    "                        'E': full['E'].map(lambda e: e.nominal_value)})\n",
    "   \n",
    "import matplotlib.pyplot as plt\n",
    "plt.rcParams['figure.figsize'] = [8,8]\n",
    "\n",
    "# https://stackoverflow.com/a/26000515/622049\n",
    "fig, ax = plt.subplots()\n",
    "nominal.plot('E', 'V', kind='scatter', ax=ax)\n",
    "ax.set_xlim(left=0.)\n",
    "ax.set_ylim(bottom=0.)\n",
    "ax.axvline(x=8, linestyle=':', color='red')\n",
    "ax.axvline(x=1, linestyle='--', color='orange')\n",
    "\n",
    "for k, v in nominal.iterrows():\n",
    "    ax.annotate(s=k, xy=(v.E, v.V),\n",
    "                xytext=(10,-5), textcoords='offset points',\n",
    "                family='sans-serif', fontsize=16, color='darkslategrey')\n",
    "\n",
    "ax.grid()"
   ]
  },
  {
   "cell_type": "code",
   "execution_count": null,
   "metadata": {},
   "outputs": [],
   "source": []
  }
 ],
 "metadata": {
  "kernelspec": {
   "display_name": "Python 3",
   "language": "python",
   "name": "python3"
  },
  "language_info": {
   "codemirror_mode": {
    "name": "ipython",
    "version": 3
   },
   "file_extension": ".py",
   "mimetype": "text/x-python",
   "name": "python",
   "nbconvert_exporter": "python",
   "pygments_lexer": "ipython3",
   "version": "3.7.3"
  }
 },
 "nbformat": 4,
 "nbformat_minor": 4
}
