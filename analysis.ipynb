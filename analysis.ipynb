{
 "cells": [
  {
   "cell_type": "code",
   "execution_count": 2,
   "metadata": {},
   "outputs": [
    {
     "ename": "NameError",
     "evalue": "name 'backlog' is not defined",
     "output_type": "error",
     "traceback": [
      "\u001b[0;31m---------------------------------------------------------------------------\u001b[0m",
      "\u001b[0;31mNameError\u001b[0m                                 Traceback (most recent call last)",
      "\u001b[0;32m<ipython-input-2-4277c51d1b1a>\u001b[0m in \u001b[0;36m<module>\u001b[0;34m\u001b[0m\n\u001b[1;32m      5\u001b[0m full = pd.DataFrame(\n\u001b[1;32m      6\u001b[0m     {task.T: pd.Series(dict({'E': task.E, 'W': pbi.W(), 'S': task.S()}))\n\u001b[0;32m----> 7\u001b[0;31m      \u001b[0;32mfor\u001b[0m \u001b[0mpbi\u001b[0m \u001b[0;32min\u001b[0m \u001b[0mbacklog\u001b[0m\u001b[0;34m\u001b[0m\u001b[0;34m\u001b[0m\u001b[0m\n\u001b[0m\u001b[1;32m      8\u001b[0m      for task in pbi.tasks}).transpose()\n\u001b[1;32m      9\u001b[0m \u001b[0;34m\u001b[0m\u001b[0m\n",
      "\u001b[0;31mNameError\u001b[0m: name 'backlog' is not defined"
     ]
    }
   ],
   "source": [
    "import pandas as pd\n",
    "from IPython.core.display import display, Markdown\n",
    "\n",
    "# Convert raw data to a pandas data frame.\n",
    "full = pd.DataFrame(\n",
    "    {task.T: pd.Series(dict({'E': task.E, 'W': pbi.W(), 'S': task.S(), 'Timebox': str(task.Timebox())}))\n",
    "     for pbi in backlog\n",
    "     for task in pbi.tasks}).transpose()\n",
    "\n",
    "full['Calendar'] = full.E.cumsum()\n",
    "\n",
    "# Show a table with what you believe the weightiest item is (even if it's too large to do).\n",
    "display(full.sort_values(by='W', ascending=False))\n",
    "\n",
    "if any(pbi.E() > 1 for pbi in backlog):\n",
    "    display(Markdown(\n",
    "\"\"\"\n",
    "Some of the highest priority tasks are larger than 1 hour. Before starting work, report your plan either:\n",
    "- On a shared backlog\n",
    "- At a daily stand-up\n",
    "\"\"\"\n",
    "))\n",
    "    print(\"\")\n",
    "\n",
    "if any(pbi.E() > 7.5 for pbi in backlog):\n",
    "    display(Markdown(\n",
    "\"\"\"\n",
    "Some of the highest priority tasks are larger than 8 hours. See:\n",
    "- [Process: Backlog grooming](https://docs.google.com/document/d/1bmRN4n0kbMN2EOhMKk62VMjpkAYcolWbKj0vPLyJKa8/edit#)\n",
    "- [Decision: Should you split story subtasks further?][1]\n",
    "- [Process: PBI subtask planning](https://docs.google.com/document/d/1g39MM493y1KSkZLYHWtxmnf-68CZjfw_rPADFaErvgk/edit).\n",
    "\n",
    "[1]: https://docs.google.com/document/d/1hQ99w3ZnrLpwygfZJHFTKfbrYqwo-cXB5tZIBmKtw4o/edit#\n",
    "\"\"\"\n",
    "))\n",
    "\n",
    "from datetime import timedelta\n",
    "if any((datetime.now() - pbi.creation_time) < timedelta(days=1, hours=0, seconds=1) for pbi in backlog):\n",
    "    display(Markdown(\n",
    "\"\"\"\n",
    "Some of the highest priority tasks were created in the last day. See:\n",
    "* [Process: Handling interruptions](https://docs.google.com/document/d/1Y0LbIWeP4wnwm09FsC2YejIMFvrG3wfNtiVQVQaG4ew/edit)\n",
    "\"\"\"\n",
    "))\n",
    "\n",
    "# Plot (V, E) with a label on every point with the summary of the Task. You should be able to quickly see how many\n",
    "# tasks or stories are small enough to start on (less than 4-8 hours). Hopefully you always have at least 3-4 stories\n",
    "# that are small enough you can pick from. Over time you should be able to see what kind of V/E ratio you typically have\n",
    "# on tasks you actually do.\n",
    "nominal = pd.DataFrame({'W': full['W'].map(lambda w: w.nominal_value),\n",
    "                        'E': full['E'].map(lambda e: e.nominal_value)})\n",
    "   \n",
    "import matplotlib.pyplot as plt\n",
    "plt.rcParams['figure.figsize'] = [8,8]\n",
    "\n",
    "# https://stackoverflow.com/a/26000515/622049\n",
    "# https://matplotlib.org/3.1.1/api/_as_gen/matplotlib.pyplot.errorbar.html\n",
    "# https://matplotlib.org/gallery/lines_bars_and_markers/errorbar_limits_simple.html\n",
    "# https://stackoverflow.com/a/43990689/622049\n",
    "fig, ax = plt.subplots()\n",
    "ax.errorbar(\n",
    "    nominal.E,\n",
    "    nominal.W,\n",
    "    xerr=full['E'].map(lambda e: e.std_dev),\n",
    "    yerr=full['W'].map(lambda w: w.std_dev),\n",
    "    fmt='o')\n",
    "ax.set_xlim(left=0.)\n",
    "ax.set_ylim(bottom=0.)\n",
    "ax.axvline(x=8, linestyle=':', color='red')\n",
    "ax.axvline(x=1, linestyle='--', color='orange')\n",
    "\n",
    "for k, v in nominal.iterrows():\n",
    "    ax.annotate(s=k, xy=(v.E, v.W),\n",
    "                xytext=(5,5), textcoords='offset points',\n",
    "                family='sans-serif', fontsize=16, color='darkslategrey')\n",
    "\n",
    "ax.grid()"
   ]
  },
  {
   "cell_type": "code",
   "execution_count": null,
   "metadata": {},
   "outputs": [],
   "source": []
  }
 ],
 "metadata": {
  "kernelspec": {
   "display_name": "Python 3",
   "language": "python",
   "name": "python3"
  },
  "language_info": {
   "codemirror_mode": {
    "name": "ipython",
    "version": 3
   },
   "file_extension": ".py",
   "mimetype": "text/x-python",
   "name": "python",
   "nbconvert_exporter": "python",
   "pygments_lexer": "ipython3",
   "version": "3.7.3"
  }
 },
 "nbformat": 4,
 "nbformat_minor": 4
}
