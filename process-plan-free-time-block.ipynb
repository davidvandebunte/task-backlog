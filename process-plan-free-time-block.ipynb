{
 "cells": [
  {
   "cell_type": "code",
   "execution_count": 13,
   "metadata": {},
   "outputs": [
    {
     "data": {
      "text/html": [
       "<div>\n",
       "<style scoped>\n",
       "    .dataframe tbody tr th:only-of-type {\n",
       "        vertical-align: middle;\n",
       "    }\n",
       "\n",
       "    .dataframe tbody tr th {\n",
       "        vertical-align: top;\n",
       "    }\n",
       "\n",
       "    .dataframe thead th {\n",
       "        text-align: right;\n",
       "    }\n",
       "</style>\n",
       "<table border=\"1\" class=\"dataframe\">\n",
       "  <thead>\n",
       "    <tr style=\"text-align: right;\">\n",
       "      <th></th>\n",
       "      <th>Name</th>\n",
       "    </tr>\n",
       "  </thead>\n",
       "  <tbody>\n",
       "    <tr>\n",
       "      <th>c</th>\n",
       "      <td>Calendar</td>\n",
       "    </tr>\n",
       "    <tr>\n",
       "      <th>g</th>\n",
       "      <td>Gmail</td>\n",
       "    </tr>\n",
       "    <tr>\n",
       "      <th>o</th>\n",
       "      <td>Outlook</td>\n",
       "    </tr>\n",
       "    <tr>\n",
       "      <th>k</th>\n",
       "      <td>Keep</td>\n",
       "    </tr>\n",
       "    <tr>\n",
       "      <th>u</th>\n",
       "      <td>Unfinished</td>\n",
       "    </tr>\n",
       "    <tr>\n",
       "      <th>s</th>\n",
       "      <td>Schedule</td>\n",
       "    </tr>\n",
       "  </tbody>\n",
       "</table>\n",
       "</div>"
      ],
      "text/plain": [
       "         Name\n",
       "c    Calendar\n",
       "g       Gmail\n",
       "o     Outlook\n",
       "k        Keep\n",
       "u  Unfinished\n",
       "s    Schedule"
      ]
     },
     "metadata": {},
     "output_type": "display_data"
    },
    {
     "name": "stdin",
     "output_type": "stream",
     "text": [
      "Enter system selection (empty to stop):  g\n"
     ]
    },
    {
     "data": {
      "text/markdown": [
       "\n",
       "- [Gmail](https://mail.google.com/mail/u/0/#inbox) tips:\n",
       "  - Use j/k\n"
      ],
      "text/plain": [
       "<IPython.core.display.Markdown object>"
      ]
     },
     "metadata": {},
     "output_type": "display_data"
    },
    {
     "name": "stdin",
     "output_type": "stream",
     "text": [
      "Enter unsorted tasks in Gmail:  4\n"
     ]
    },
    {
     "data": {
      "text/markdown": [
       "\n",
       "- Timebox: 0:08:00\n",
       "- Cutoff: 2019-08-16 01:20:35.597062"
      ],
      "text/plain": [
       "<IPython.core.display.Markdown object>"
      ]
     },
     "metadata": {},
     "output_type": "display_data"
    },
    {
     "name": "stdout",
     "output_type": "stream",
     "text": [
      "\n"
     ]
    },
    {
     "data": {
      "text/markdown": [
       "\n",
       "Finish small tasks:\n",
       "$$E[\\textbf{E}] < 1m$$\n",
       "Move large tasks to your backlog:\n",
       "$$E[\\textbf{E}] > 4m$$\n",
       "Complete small tasks before starting medium tasks.\n"
      ],
      "text/plain": [
       "<IPython.core.display.Markdown object>"
      ]
     },
     "metadata": {},
     "output_type": "display_data"
    },
    {
     "name": "stdin",
     "output_type": "stream",
     "text": [
      "Does a medium-sized task remain (empty to stop)? 4\n"
     ]
    },
    {
     "data": {
      "text/markdown": [
       "\n",
       "### Limit TVE analysis timebox to 10% of E[**E**]:\n",
       "1. [Testable][1]\n",
       "  * When are you done?\n",
       "  * Is this actionable yet?\n",
       "  * How can you help?\n",
       "    * Predict the content of an upcoming merge request?\n",
       "    * Pair program or ask a question?\n",
       "1. [Value][2] (r.v. **V**)?\n",
       "  * It’s presumptuous to expect someone to sell value on every task or story. Ask them for their estimate of E[V].\n",
       "  * Common value decisions:\n",
       "    * [Decision: Should your team do independent code reviews?][22]\n",
       "    * [Decision: Should you automate a manual task?][23]\n",
       "    * [Decision: Are automatic tests a good investment?][24]\n",
       "    * [Decision: Should you share library binaries?][25]\n",
       "1. [Estimate][3] (r.v. **E**)?\n",
       "  * Can you get E[**E**] smaller by bundling with other tasks? Examples:\n",
       "    * Group items you do off your computer.\n",
       "    * Combine notes. Copy the “super note” to an existing document.\n",
       "    * Group everything you need to talk about with one person.\n",
       "  * Common processes:\n",
       "    * [Process: Code review checklist][31]\n",
       "    * [Process: Investigate root cause][32]\n",
       "\n",
       "[1]: https://docs.google.com/document/d/1FNKdVqkBM11VZrNuX00_IT_u5CNU02J1Ys1RQADTLEM/edit\n",
       "[2]: https://docs.google.com/document/d/1UZhNMbYM4Pq46Hken1MwCbAU8rWYZT_T02eUiUoyqDg/edit\n",
       "[3]: https://docs.google.com/document/d/1FMH80GUHQ_pwtuTLG0pmGsPZyXZh2CV1nSzRNBU42W0/edit#heading=h.718s8y7tnrt\n",
       "\n",
       "[22]: https://docs.google.com/document/d/15tY5wjoEl2q5eW1lGn-RZyDSxGViGz_r8cN-owGU3BI/edit#\n",
       "[23]: https://docs.google.com/document/d/1v-4nxZ_dNjkfdeR1Zy5LQehmpTqgBmHVC-G6fhLd4AA/edit\n",
       "[24]: https://docs.google.com/document/d/1LJH2SERIA6SJj27oQk2_TW49T1XxPJ8QLmg0z0tpd2g/edit\n",
       "[25]: https://docs.google.com/document/d/1Ed3T8hlYYZurQLvzBtVYHBs1OGGfiwy9XjZob8JHHUs/edit\n",
       "\n",
       "[31]: https://docs.google.com/document/d/1vEsv-v6Br6Gg7fV0ES5QltMOWK5jadaaVYSJwHxh1IM/edit\n",
       "[32]: https://davidvandebunte.gitlab.io/shared-notes/post/process-investigate-root-cause/\n"
      ],
      "text/plain": [
       "<IPython.core.display.Markdown object>"
      ]
     },
     "metadata": {},
     "output_type": "display_data"
    },
    {
     "data": {
      "text/markdown": [
       "\n",
       "Estimate the weight of the medium task: \n",
       "$$W = E[\\textbf{V}/\\textbf{E}]$$\n"
      ],
      "text/plain": [
       "<IPython.core.display.Markdown object>"
      ]
     },
     "metadata": {},
     "output_type": "display_data"
    },
    {
     "name": "stdin",
     "output_type": "stream",
     "text": [
      "Estimated weight:  7\n"
     ]
    },
    {
     "data": {
      "text/markdown": [
       "\n",
       "- Timebox: 0:08:00\n",
       "- Cutoff: 2019-08-16 01:20:46.412399"
      ],
      "text/plain": [
       "<IPython.core.display.Markdown object>"
      ]
     },
     "metadata": {},
     "output_type": "display_data"
    },
    {
     "name": "stdin",
     "output_type": "stream",
     "text": [
      "Hit enter to complete. \n"
     ]
    },
    {
     "name": "stdout",
     "output_type": "stream",
     "text": [
      "\n"
     ]
    },
    {
     "name": "stdin",
     "output_type": "stream",
     "text": [
      "Does a medium-sized task remain (empty to stop)? \n"
     ]
    },
    {
     "data": {
      "text/html": [
       "<div>\n",
       "<style scoped>\n",
       "    .dataframe tbody tr th:only-of-type {\n",
       "        vertical-align: middle;\n",
       "    }\n",
       "\n",
       "    .dataframe tbody tr th {\n",
       "        vertical-align: top;\n",
       "    }\n",
       "\n",
       "    .dataframe thead th {\n",
       "        text-align: right;\n",
       "    }\n",
       "</style>\n",
       "<table border=\"1\" class=\"dataframe\">\n",
       "  <thead>\n",
       "    <tr style=\"text-align: right;\">\n",
       "      <th></th>\n",
       "      <th>Name</th>\n",
       "    </tr>\n",
       "  </thead>\n",
       "  <tbody>\n",
       "    <tr>\n",
       "      <th>c</th>\n",
       "      <td>Calendar</td>\n",
       "    </tr>\n",
       "    <tr>\n",
       "      <th>g</th>\n",
       "      <td>Gmail</td>\n",
       "    </tr>\n",
       "    <tr>\n",
       "      <th>o</th>\n",
       "      <td>Outlook</td>\n",
       "    </tr>\n",
       "    <tr>\n",
       "      <th>k</th>\n",
       "      <td>Keep</td>\n",
       "    </tr>\n",
       "    <tr>\n",
       "      <th>u</th>\n",
       "      <td>Unfinished</td>\n",
       "    </tr>\n",
       "    <tr>\n",
       "      <th>s</th>\n",
       "      <td>Schedule</td>\n",
       "    </tr>\n",
       "  </tbody>\n",
       "</table>\n",
       "</div>"
      ],
      "text/plain": [
       "         Name\n",
       "c    Calendar\n",
       "g       Gmail\n",
       "o     Outlook\n",
       "k        Keep\n",
       "u  Unfinished\n",
       "s    Schedule"
      ]
     },
     "metadata": {},
     "output_type": "display_data"
    },
    {
     "name": "stdin",
     "output_type": "stream",
     "text": [
      "Enter system selection (empty to stop):  \n"
     ]
    }
   ],
   "source": [
    "from datetime import datetime, timedelta\n",
    "from threading import Timer\n",
    "from IPython.display import display, Math, Latex, Markdown\n",
    "import pandas as pd\n",
    "\n",
    "class System():\n",
    "    def __init__(self, name, tips):\n",
    "        self.name = name\n",
    "        self.tips = tips\n",
    "\n",
    "systems = {'c': System(name=\"Calendar\", tips=\"\"\"\n",
    "Can you shrink the “filled” blocks in your schedule? For example, can you:\n",
    "* Shorten meetings? Achieve the meeting goal so it can be cancelled.\n",
    "* Get exercise at the same time?\n",
    "* \"Work\" less than 40 hours?\n",
    "* Ignore a deadline to do weightier work instead? See [Decision: Should you respect a particular deadline?](https://docs.google.com/document/d/1JKY2lkoiNFfMR-UEcAL3EEOeIVhftIgdke-60MdYk64/edit).\n",
    "\n",
    "Review:\n",
    "* [Google Calendar - today](https://calendar.google.com/calendar/r/day)\n",
    "* [Calendar - Outlook - today](https://outlook.office.com/calendar/view/day)\n",
    "\"\"\"),\n",
    "           'g': System(name=\"Gmail\", tips=\"\"\"\n",
    "- [Gmail](https://mail.google.com/mail/u/0/#inbox) tips:\n",
    "  - Use j/k\n",
    "\"\"\"),\n",
    "           'o': System(name=\"Outlook\", tips=\"\"\"\n",
    "- [Outlook](https://outlook.office.com/mail/inbox) tips:\n",
    "  - Use j/k!\n",
    "  - Snooze on your phone\n",
    "\"\"\"),\n",
    "           'k': System(name=\"Keep\", tips=\"\"\"\n",
    "- [Keep](https://keep.google.com/#home) tips:\n",
    "  - Use j/k\n",
    "\"\"\"),\n",
    "           'u': System(name=\"Unfinished\", tips=\"\"\"\n",
    "If you already started some task, have a bias towards finishing it before you move on (lower E[**E**] for tasks in working memory).\n",
    "\n",
    "If you must move on and you also believe the task will come up again, move unorganized working memory into a git commit message (long-term shared storage). For example:\n",
    "* Chrome tabs\n",
    "* tmux tabs\n",
    "* Other applications\n",
    "\n",
    "Consider restarting your machine after a cleanup.\n",
    "\"\"\"),\n",
    "           's': System(name=\"Schedule\", tips=\"\"\"\n",
    "Schedule the item to your day. See:\n",
    "  * [Decision: Should you schedule your day down to the hour?](https://docs.google.com/document/d/1QuEe13p89Ffcq7Ao_zVcYyrHaq9rMvv8oOCKzmN9BnU/edit)\n",
    "  * See [Process: Schedule day (home)](https://docs.google.com/document/d/1iPrL-jZtRQC2e3C70vFTNahcJa_H9IBMWOByTciPkHk/edit) (i.e. use a timer).\n",
    "\"\"\")}\n",
    "\n",
    "option_table = pd.DataFrame(\n",
    "    {system: pd.Series(dict({'Name': systems[system].name})) for system in systems}).transpose()\n",
    "\n",
    "# It's probably best to estimate the \"questionable\" weight from the tasks\n",
    "# on your backlog (opportunity costs). For now, hard code to an average.\n",
    "questionable_weight = 5\n",
    "\n",
    "def prompt_for_integer(prompt_string):\n",
    "    expect_integer = None\n",
    "    while(expect_integer is None):\n",
    "        try:\n",
    "            expect_integer = int(input(prompt_string))\n",
    "        except ValueError:\n",
    "            print(\"Please enter an integer.\")\n",
    "    return expect_integer\n",
    "\n",
    "def start_timer(timebox, timeout_string):\n",
    "    start = datetime.now()\n",
    "    display(Markdown(f\"\"\"\n",
    "- Timebox: {timebox}\n",
    "- Cutoff: {start + timebox}\"\"\"\n",
    "))\n",
    "    # display(Markdown(\"Cutoff: {}\".format(start + timebox)))\n",
    "    t = Timer(timebox.seconds, lambda: display(Markdown(\"\"\"\n",
    "```diff\n",
    "- {}\n",
    "```\n",
    "\"\"\".format(timeout_string))))\n",
    "    t.start()\n",
    "    return t\n",
    "\n",
    "# Skim online task systems (starting with the most interruptive)\n",
    "while True:\n",
    "    display(option_table)\n",
    "    sk = input(\"Enter system selection (empty to stop): \")\n",
    "    if sk not in systems:\n",
    "        break\n",
    "\n",
    "    system = systems[sk]\n",
    "    display(Markdown(system.tips))\n",
    "    \n",
    "    if sk == 'c':\n",
    "        input(\"Hit enter to continue.\")\n",
    "        continue\n",
    "\n",
    "    if sk == 's':\n",
    "        task = prompt_for_integer(\"Enter task index: \")\n",
    "        if task < 0 or task >= full.size:\n",
    "            break\n",
    "        t = start_timer(timedelta(hours=full.at[task, \"Timebox\"]),\n",
    "                        \"Ask someone for help.\")\n",
    "        input(\"Hit enter to complete.\")\n",
    "        t.cancel()\n",
    "        continue\n",
    "        \n",
    "    tasks = prompt_for_integer(\"Enter unsorted tasks in {}: \".format(system.name))\n",
    "    if tasks == 0:\n",
    "        continue\n",
    "\n",
    "    t = start_timer(timedelta(minutes=2*tasks), \"Timeout! Routine: Come back to this system.\")\n",
    "    print(\"\")\n",
    "\n",
    "    display(Markdown(\n",
    "\"\"\"\n",
    "Finish small tasks:\n",
    "$$E[\\\\textbf{E}] < 1m$$\n",
    "Move large tasks to your backlog:\n",
    "$$E[\\\\textbf{E}] > 4m$$\n",
    "Complete small tasks before starting medium tasks.\n",
    "\"\"\"\n",
    "))\n",
    "\n",
    "    while True:\n",
    "        medium = input(\"Does a medium-sized task remain (empty to stop)?\")\n",
    "        t.cancel()\n",
    "        if not medium:\n",
    "            break\n",
    "\n",
    "        display(Markdown(\n",
    "\"\"\"\n",
    "### Limit TVE analysis timebox to 10% of E[**E**]:\n",
    "1. [Testable][1]\n",
    "  * When are you done?\n",
    "  * Is this actionable yet?\n",
    "  * How can you help?\n",
    "    * Predict the content of an upcoming merge request?\n",
    "    * Pair program or ask a question?\n",
    "1. [Value][2] (r.v. **V**)?\n",
    "  * It’s presumptuous to expect someone to sell value on every task or story. Ask them for their estimate of E[V].\n",
    "  * Common value decisions:\n",
    "    * [Decision: Should your team do independent code reviews?][22]\n",
    "    * [Decision: Should you automate a manual task?][23]\n",
    "    * [Decision: Are automatic tests a good investment?][24]\n",
    "    * [Decision: Should you share library binaries?][25]\n",
    "1. [Estimate][3] (r.v. **E**)?\n",
    "  * Can you get E[**E**] smaller by bundling with other tasks? Examples:\n",
    "    * Group items you do off your computer.\n",
    "    * Combine notes. Copy the “super note” to an existing document.\n",
    "    * Group everything you need to talk about with one person.\n",
    "  * Common processes:\n",
    "    * [Process: Code review checklist][31]\n",
    "    * [Process: Investigate root cause][32]\n",
    "\n",
    "[1]: https://docs.google.com/document/d/1FNKdVqkBM11VZrNuX00_IT_u5CNU02J1Ys1RQADTLEM/edit\n",
    "[2]: https://docs.google.com/document/d/1UZhNMbYM4Pq46Hken1MwCbAU8rWYZT_T02eUiUoyqDg/edit\n",
    "[3]: https://docs.google.com/document/d/1FMH80GUHQ_pwtuTLG0pmGsPZyXZh2CV1nSzRNBU42W0/edit#heading=h.718s8y7tnrt\n",
    "\n",
    "[22]: https://docs.google.com/document/d/15tY5wjoEl2q5eW1lGn-RZyDSxGViGz_r8cN-owGU3BI/edit#\n",
    "[23]: https://docs.google.com/document/d/1v-4nxZ_dNjkfdeR1Zy5LQehmpTqgBmHVC-G6fhLd4AA/edit\n",
    "[24]: https://docs.google.com/document/d/1LJH2SERIA6SJj27oQk2_TW49T1XxPJ8QLmg0z0tpd2g/edit\n",
    "[25]: https://docs.google.com/document/d/1Ed3T8hlYYZurQLvzBtVYHBs1OGGfiwy9XjZob8JHHUs/edit\n",
    "\n",
    "[31]: https://docs.google.com/document/d/1vEsv-v6Br6Gg7fV0ES5QltMOWK5jadaaVYSJwHxh1IM/edit\n",
    "[32]: https://davidvandebunte.gitlab.io/shared-notes/post/process-investigate-root-cause/\n",
    "\"\"\"\n",
    "))\n",
    "\n",
    "        display(Markdown(\n",
    "\"\"\"\n",
    "Estimate the weight of the medium task: \n",
    "$$W = E[\\\\textbf{V}/\\\\textbf{E}]$$\n",
    "\"\"\"\n",
    "))\n",
    "        weight = prompt_for_integer(\"Estimated weight: \")\n",
    "        if weight < questionable_weight:\n",
    "            display(Markdown(\n",
    "\"\"\"\n",
    "Be aware:\n",
    "$$E[\\\\textbf{V}/\\\\textbf{E}] < W_{typical}$$\n",
    "If this task appeared recently, snooze it to remove focal value.\n",
    "\"\"\"\n",
    "))\n",
    "\n",
    "        t = start_timer(timedelta(minutes=8), \"Timeout! Routine: Rotate back to this medium-sized task.\")\n",
    "        input(\"Hit enter to complete.\")\n",
    "        print(\"\")"
   ]
  }
 ],
 "metadata": {
  "kernelspec": {
   "display_name": "Python 3",
   "language": "python",
   "name": "python3"
  },
  "language_info": {
   "codemirror_mode": {
    "name": "ipython",
    "version": 3
   },
   "file_extension": ".py",
   "mimetype": "text/x-python",
   "name": "python",
   "nbconvert_exporter": "python",
   "pygments_lexer": "ipython3",
   "version": "3.7.3"
  }
 },
 "nbformat": 4,
 "nbformat_minor": 4
}
